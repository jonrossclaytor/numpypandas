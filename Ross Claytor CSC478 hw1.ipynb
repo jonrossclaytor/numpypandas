{
 "cells": [
  {
   "cell_type": "markdown",
   "metadata": {},
   "source": [
    "1) Explore the general characteristics of the data as a whole: examine the means, standard deviations, and other statistics associated with the numerical attributes; show the distributions of values associated with categorical attributes; etc."
   ]
  },
  {
   "cell_type": "code",
   "execution_count": 38,
   "metadata": {
    "collapsed": false
   },
   "outputs": [],
   "source": [
    "# first some housekeeping\n",
    "\n",
    "# import librariries\n",
    "import numpy as np, pandas as pd\n",
    "import matplotlib.pyplot as plt\n",
    "%matplotlib inline\n"
   ]
  },
  {
   "cell_type": "code",
   "execution_count": 39,
   "metadata": {
    "collapsed": true
   },
   "outputs": [],
   "source": [
    "# import the data as a pandas dataframe using the index field in the file as the index for the dataframe\n",
    "bank_df = pd.read_csv('bank_data.csv', index_col=0)"
   ]
  },
  {
   "cell_type": "code",
   "execution_count": 40,
   "metadata": {
    "collapsed": false
   },
   "outputs": [
    {
     "data": {
      "text/html": [
       "<div>\n",
       "<table border=\"1\" class=\"dataframe\">\n",
       "  <thead>\n",
       "    <tr style=\"text-align: right;\">\n",
       "      <th></th>\n",
       "      <th>age</th>\n",
       "      <th>income</th>\n",
       "      <th>children</th>\n",
       "    </tr>\n",
       "  </thead>\n",
       "  <tbody>\n",
       "    <tr>\n",
       "      <th>count</th>\n",
       "      <td>600.000000</td>\n",
       "      <td>600.000000</td>\n",
       "      <td>600.000000</td>\n",
       "    </tr>\n",
       "    <tr>\n",
       "      <th>mean</th>\n",
       "      <td>42.395000</td>\n",
       "      <td>27524.031217</td>\n",
       "      <td>1.011667</td>\n",
       "    </tr>\n",
       "    <tr>\n",
       "      <th>std</th>\n",
       "      <td>14.424947</td>\n",
       "      <td>12899.468246</td>\n",
       "      <td>1.056752</td>\n",
       "    </tr>\n",
       "    <tr>\n",
       "      <th>min</th>\n",
       "      <td>18.000000</td>\n",
       "      <td>5014.210000</td>\n",
       "      <td>0.000000</td>\n",
       "    </tr>\n",
       "    <tr>\n",
       "      <th>25%</th>\n",
       "      <td>30.000000</td>\n",
       "      <td>17264.500000</td>\n",
       "      <td>0.000000</td>\n",
       "    </tr>\n",
       "    <tr>\n",
       "      <th>50%</th>\n",
       "      <td>42.000000</td>\n",
       "      <td>24925.300000</td>\n",
       "      <td>1.000000</td>\n",
       "    </tr>\n",
       "    <tr>\n",
       "      <th>75%</th>\n",
       "      <td>55.250000</td>\n",
       "      <td>36172.675000</td>\n",
       "      <td>2.000000</td>\n",
       "    </tr>\n",
       "    <tr>\n",
       "      <th>max</th>\n",
       "      <td>67.000000</td>\n",
       "      <td>63130.100000</td>\n",
       "      <td>3.000000</td>\n",
       "    </tr>\n",
       "  </tbody>\n",
       "</table>\n",
       "</div>"
      ],
      "text/plain": [
       "              age        income    children\n",
       "count  600.000000    600.000000  600.000000\n",
       "mean    42.395000  27524.031217    1.011667\n",
       "std     14.424947  12899.468246    1.056752\n",
       "min     18.000000   5014.210000    0.000000\n",
       "25%     30.000000  17264.500000    0.000000\n",
       "50%     42.000000  24925.300000    1.000000\n",
       "75%     55.250000  36172.675000    2.000000\n",
       "max     67.000000  63130.100000    3.000000"
      ]
     },
     "execution_count": 40,
     "metadata": {},
     "output_type": "execute_result"
    }
   ],
   "source": [
    "# for our numerical values, we can use the describe method for some basic statistics\n",
    "bank_df.describe()"
   ]
  },
  {
   "cell_type": "code",
   "execution_count": 41,
   "metadata": {
    "collapsed": false
   },
   "outputs": [
    {
     "data": {
      "text/plain": [
       "MALE      300\n",
       "FEMALE    300\n",
       "Name: gender, dtype: int64"
      ]
     },
     "execution_count": 41,
     "metadata": {},
     "output_type": "execute_result"
    }
   ],
   "source": [
    "bank_df.gender.value_counts()"
   ]
  },
  {
   "cell_type": "code",
   "execution_count": 42,
   "metadata": {
    "collapsed": false
   },
   "outputs": [
    {
     "name": "stdout",
     "output_type": "stream",
     "text": [
      "Distribution of all attributes \n",
      "\n",
      "               age        income    children gender      region married  car  \\\n",
      "count   600.000000    600.000000  600.000000    600         600     600  600   \n",
      "unique         NaN           NaN         NaN      2           4       2    2   \n",
      "top            NaN           NaN         NaN   MALE  INNER_CITY     YES   NO   \n",
      "freq           NaN           NaN         NaN    300         269     396  304   \n",
      "mean     42.395000  27524.031217    1.011667    NaN         NaN     NaN  NaN   \n",
      "std      14.424947  12899.468246    1.056752    NaN         NaN     NaN  NaN   \n",
      "min      18.000000   5014.210000    0.000000    NaN         NaN     NaN  NaN   \n",
      "25%      30.000000  17264.500000    0.000000    NaN         NaN     NaN  NaN   \n",
      "50%      42.000000  24925.300000    1.000000    NaN         NaN     NaN  NaN   \n",
      "75%      55.250000  36172.675000    2.000000    NaN         NaN     NaN  NaN   \n",
      "max      67.000000  63130.100000    3.000000    NaN         NaN     NaN  NaN   \n",
      "\n",
      "       savings_acct current_acct mortgage  pep  \n",
      "count           600          600      600  600  \n",
      "unique            2            2        2    2  \n",
      "top             YES          YES       NO   NO  \n",
      "freq            414          455      391  326  \n",
      "mean            NaN          NaN      NaN  NaN  \n",
      "std             NaN          NaN      NaN  NaN  \n",
      "min             NaN          NaN      NaN  NaN  \n",
      "25%             NaN          NaN      NaN  NaN  \n",
      "50%             NaN          NaN      NaN  NaN  \n",
      "75%             NaN          NaN      NaN  NaN  \n",
      "max             NaN          NaN      NaN  NaN   \n",
      "\n",
      "Counts of categorical attributes\n",
      "\n",
      "MALE      300\n",
      "FEMALE    300\n",
      "Name: gender, dtype: int64 \n",
      "\n",
      "INNER_CITY    269\n",
      "TOWN          173\n",
      "RURAL          96\n",
      "SUBURBAN       62\n",
      "Name: region, dtype: int64 \n",
      "\n",
      "YES    396\n",
      "NO     204\n",
      "Name: married, dtype: int64 \n",
      "\n",
      "NO     304\n",
      "YES    296\n",
      "Name: car, dtype: int64 \n",
      "\n",
      "YES    414\n",
      "NO     186\n",
      "Name: savings_acct, dtype: int64 \n",
      "\n",
      "YES    455\n",
      "NO     145\n",
      "Name: current_acct, dtype: int64 \n",
      "\n",
      "MALE      300\n",
      "FEMALE    300\n",
      "Name: gender, dtype: int64 \n",
      "\n",
      "NO     326\n",
      "YES    274\n",
      "Name: pep, dtype: int64\n"
     ]
    }
   ],
   "source": [
    "# we can force the describe method to include non numberical values with the syntax below.\n",
    "# here we can see counts and frequencies for the categorical variables\n",
    "\n",
    "# note that many of the attributes available for the numerical values are not available for the categorical variables and\n",
    "# visa versa\n",
    "print 'Distribution of all attributes \\n'\n",
    "print bank_df.describe(include='all'),  '\\n'\n",
    "\n",
    "# alternatively, we can do a count of the distribution of each categorical variable using the value_counts() method\n",
    "print 'Counts of categorical attributes\\n'\n",
    "print bank_df.gender.value_counts(), '\\n'\n",
    "print bank_df.region.value_counts(), '\\n'\n",
    "print bank_df.married.value_counts(), '\\n'\n",
    "print bank_df.car.value_counts(), '\\n'\n",
    "print bank_df.savings_acct.value_counts(), '\\n'\n",
    "print bank_df.current_acct.value_counts(), '\\n'\n",
    "print bank_df.gender.value_counts(), '\\n'\n",
    "print bank_df.pep.value_counts()"
   ]
  },
  {
   "cell_type": "code",
   "execution_count": 43,
   "metadata": {
    "collapsed": false
   },
   "outputs": [
    {
     "data": {
      "text/plain": [
       "NO     326\n",
       "YES    274\n",
       "Name: pep, dtype: int64"
      ]
     },
     "execution_count": 43,
     "metadata": {},
     "output_type": "execute_result"
    }
   ],
   "source": [
    "pd.value_counts(bank_df.pep)"
   ]
  },
  {
   "cell_type": "markdown",
   "metadata": {},
   "source": [
    "2) Suppose that because of the bank is particularly interested in customers who buy the PEP (Personal Equity Plan) product. Compare and contrast the subsets of customers who buy and don't buy the PEP. Compute summaries (as in part 1) of the selected data with respect to all other attributes. Can you observe any significant differences between these segments of customers? Discuss your observations."
   ]
  },
  {
   "cell_type": "code",
   "execution_count": 44,
   "metadata": {
    "collapsed": false
   },
   "outputs": [
    {
     "name": "stdout",
     "output_type": "stream",
     "text": [
      "Distribution of numerical attributes \n",
      "\n",
      "                  age    children        income\n",
      "pep                                            \n",
      "NO  count  326.000000  326.000000    326.000000\n",
      "    mean    40.098160    1.067485  24900.953374\n",
      "    std     14.123506    1.195524  11661.123422\n",
      "    min     18.000000    0.000000   5014.210000\n",
      "    25%     27.000000    0.000000  15366.475000\n",
      "    50%     40.000000    0.000000  23105.000000\n",
      "    75%     51.000000    2.000000  31210.900000\n",
      "    max     67.000000    3.000000  61554.600000\n",
      "YES count  274.000000  274.000000    274.000000\n",
      "    mean    45.127737    0.945255  30644.919453\n",
      "    std     14.327991    0.860571  13609.613043\n",
      "    min     18.000000    0.000000   7756.360000\n",
      "    25%     34.000000    0.000000  19639.475000\n",
      "    50%     45.000000    1.000000  28080.050000\n",
      "    75%     58.000000    1.000000  38458.350000\n",
      "    max     67.000000    3.000000  63130.100000 \n",
      "\n",
      "Counts of categorical attributes\n",
      "\n",
      "pep  gender\n",
      "NO   FEMALE    170\n",
      "     MALE      156\n",
      "YES  FEMALE    130\n",
      "     MALE      144\n",
      "Name: age, dtype: int64 \n",
      "\n",
      "pep  region    \n",
      "NO   INNER_CITY    146\n",
      "     RURAL          50\n",
      "     SUBURBAN       28\n",
      "     TOWN          102\n",
      "YES  INNER_CITY    123\n",
      "     RURAL          46\n",
      "     SUBURBAN       34\n",
      "     TOWN           71\n",
      "Name: age, dtype: int64 \n",
      "\n",
      "pep  married\n",
      "NO   NO          84\n",
      "     YES        242\n",
      "YES  NO         120\n",
      "     YES        154\n",
      "Name: age, dtype: int64 \n",
      "\n",
      "pep  car\n",
      "NO   NO     168\n",
      "     YES    158\n",
      "YES  NO     136\n",
      "     YES    138\n",
      "Name: age, dtype: int64 \n",
      "\n",
      "pep  savings_acct\n",
      "NO   NO               91\n",
      "     YES             235\n",
      "YES  NO               95\n",
      "     YES             179\n",
      "Name: age, dtype: int64 \n",
      "\n",
      "pep  current_acct\n",
      "NO   NO               82\n",
      "     YES             244\n",
      "YES  NO               63\n",
      "     YES             211\n",
      "Name: age, dtype: int64 \n",
      "\n",
      "<bound method SeriesGroupBy.count of <pandas.core.groupby.SeriesGroupBy object at 0x000000000B031828>>\n"
     ]
    },
    {
     "data": {
      "text/plain": [
       "'\\nSome observations about the differnces between these segments of customers\\n- customers who purchase the PEP product are older and better off financially than those that do not\\n- having a current account or a savings account at the bank does not appear to be an idicator of whether the PEP\\n  product is purchased\\n'"
      ]
     },
     "execution_count": 44,
     "metadata": {},
     "output_type": "execute_result"
    }
   ],
   "source": [
    "# one way to compare and contrast different subsets of a categorical value is to use the groupby method of the dataframe.\n",
    "print 'Distribution of numerical attributes \\n'\n",
    "print bank_df.groupby('pep').describe(),  '\\n'\n",
    "\n",
    "# similarly, we can evaluate the distribution of the categorical attributes based on whether they bout the PEP product\n",
    "# couting the ages in each group is arbitrary -- we just need to count one attribute\n",
    "print 'Counts of categorical attributes\\n'\n",
    "print bank_df.groupby(['pep','gender']).age.count(), '\\n'\n",
    "print bank_df.groupby(['pep','region']).age.count(), '\\n'\n",
    "print bank_df.groupby(['pep','married']).age.count(), '\\n'\n",
    "print bank_df.groupby(['pep','car']).age.count(), '\\n'\n",
    "print bank_df.groupby(['pep','savings_acct']).age.count(), '\\n'\n",
    "print bank_df.groupby(['pep','current_acct']).age.count(), '\\n'\n",
    "print bank_df.groupby(['pep','mortgage']).age.count\n",
    "\n",
    "'''\n",
    "Some observations about the differnces between these segments of customers\n",
    "- customers who purchase the PEP product are older and better off financially than those that do not\n",
    "- having a current account or a savings account at the bank does not appear to be an idicator of whether the PEP\n",
    "  product is purchased\n",
    "'''\n"
   ]
  },
  {
   "cell_type": "markdown",
   "metadata": {},
   "source": [
    "3) Use z-score normalization to standardize the values of the income attribute. [Do not change the original income attribute in the table.]"
   ]
  },
  {
   "cell_type": "code",
   "execution_count": 45,
   "metadata": {
    "collapsed": false
   },
   "outputs": [
    {
     "name": "stdout",
     "output_type": "stream",
     "text": [
      "id\n",
      "ID12101    0.388563\n",
      "ID12102   -0.166032\n",
      "ID12103    0.596536\n",
      "ID12104   -1.344546\n",
      "ID12105    1.012482\n",
      "Name: age, dtype: float64\n"
     ]
    }
   ],
   "source": [
    "age_z = (bank_df.age - bank_df.age.mean()) / bank_df.age.std()\n",
    "print age_z.head()\n"
   ]
  },
  {
   "cell_type": "markdown",
   "metadata": {},
   "source": [
    "4) Discretize the age attribute into 3 categories (corresponding to \"young\", \"mid-age\", and \"old\"). [Do not change the original age attribute in the table.]"
   ]
  },
  {
   "cell_type": "code",
   "execution_count": 46,
   "metadata": {
    "collapsed": false
   },
   "outputs": [
    {
     "name": "stdout",
     "output_type": "stream",
     "text": [
      "(id\n",
      "ID12101    mid-age\n",
      "ID12102    mid-age\n",
      "ID12103        old\n",
      "ID12104      young\n",
      "ID12105        old\n",
      "ID12106        old\n",
      "ID12107      young\n",
      "ID12108        old\n",
      "ID12109    mid-age\n",
      "ID12110        old\n",
      "ID12111        old\n",
      "ID12112        old\n",
      "ID12113    mid-age\n",
      "ID12114        old\n",
      "ID12115    mid-age\n",
      "ID12116    mid-age\n",
      "ID12117    mid-age\n",
      "ID12118    mid-age\n",
      "ID12119        old\n",
      "ID12120      young\n",
      "ID12121        old\n",
      "ID12122        old\n",
      "ID12123        old\n",
      "ID12124      young\n",
      "ID12125      young\n",
      "ID12126        old\n",
      "ID12127    mid-age\n",
      "ID12128    mid-age\n",
      "ID12129    mid-age\n",
      "ID12130        old\n",
      "            ...   \n",
      "ID12671    mid-age\n",
      "ID12672    mid-age\n",
      "ID12673      young\n",
      "ID12674    mid-age\n",
      "ID12675    mid-age\n",
      "ID12676    mid-age\n",
      "ID12677      young\n",
      "ID12678        old\n",
      "ID12679      young\n",
      "ID12680    mid-age\n",
      "ID12681        old\n",
      "ID12682      young\n",
      "ID12683    mid-age\n",
      "ID12684    mid-age\n",
      "ID12685      young\n",
      "ID12686      young\n",
      "ID12687      young\n",
      "ID12688    mid-age\n",
      "ID12689        old\n",
      "ID12690      young\n",
      "ID12691      young\n",
      "ID12692    mid-age\n",
      "ID12693    mid-age\n",
      "ID12694        old\n",
      "ID12695        old\n",
      "ID12696        old\n",
      "ID12697      young\n",
      "ID12698      young\n",
      "ID12699      young\n",
      "ID12700    mid-age\n",
      "Name: age, dtype: category\n",
      "Categories (3, object): [young < mid-age < old], array([ 18.,  35.,  49.,  67.]))\n"
     ]
    }
   ],
   "source": [
    "age_bins = pd.qcut(bank_df.age,3, labels=['young','mid-age','old'], retbins=True) \n",
    "print age_bins"
   ]
  },
  {
   "cell_type": "markdown",
   "metadata": {},
   "source": [
    "5) Use Min-Max Normalization to transform the values of all numeric attributes in the original table (income, age, children) onto the range 0.0-1.0."
   ]
  },
  {
   "cell_type": "code",
   "execution_count": 47,
   "metadata": {
    "collapsed": false
   },
   "outputs": [],
   "source": [
    "bank_df.income = (bank_df.income - bank_df.income.min()) / (bank_df.income.max()-bank_df.income.min())\n",
    "bank_df.age = (bank_df.age - bank_df.age.min()) / (bank_df.age.max()-bank_df.age.min())\n",
    "bank_df.children = (bank_df.children - bank_df.children.min()) / (bank_df.children.max()-bank_df.children.min())"
   ]
  },
  {
   "cell_type": "markdown",
   "metadata": {},
   "source": [
    "6) Convert the table (after normalization in part 5) into the standard spreadsheet format. Note that this requires converting each categorical attribute into multiple binary (\"dummy\") attributes (one for each values of the categorical attribute) and assigning binary values corresponding to the presence or not presence of the attribute value in the original record). Then numeric attributes should remain unchanged. Save this new table into a file called bank_numeric.csv and submitit along with your assignment. [Hint: you might consider using the get_dummies for Pandas data frames.]"
   ]
  },
  {
   "cell_type": "code",
   "execution_count": 48,
   "metadata": {
    "collapsed": false
   },
   "outputs": [],
   "source": [
    "bank_df_standard = pd.get_dummies(bank_df)\n",
    "\n",
    "# save the output\n",
    "bank_df_standard.to_csv('bank_numeric.csv', flot_format='%1.2f')"
   ]
  },
  {
   "cell_type": "markdown",
   "metadata": {},
   "source": [
    "7) Using the standardized data set (of the previous part), perform basic correlation analysis among the attributes. Discuss your results by indicating any significant positive or negative correlations among pairs of attributes. You need to construct a complete Correlation Matrix. Be sure to first remove the Customer ID column before creating the correlation matrix. [Hint: you can do this by using the corr() function in Pandas or corrcoef function in NumPy]."
   ]
  },
  {
   "cell_type": "code",
   "execution_count": 49,
   "metadata": {
    "collapsed": false
   },
   "outputs": [
    {
     "name": "stdout",
     "output_type": "stream",
     "text": [
      "                        age    income  children  gender_FEMALE  gender_MALE  \\\n",
      "age                1.000000  0.752726  0.023572       0.090081    -0.090081   \n",
      "income             0.752726  1.000000  0.036761       0.023845    -0.023845   \n",
      "children           0.023572  0.036761  1.000000       0.014206    -0.014206   \n",
      "gender_FEMALE      0.090081  0.023845  0.014206       1.000000    -1.000000   \n",
      "gender_MALE       -0.090081 -0.023845 -0.014206      -1.000000     1.000000   \n",
      "region_INNER_CITY -0.025171 -0.047564 -0.051222      -0.023459     0.023459   \n",
      "region_RURAL       0.018635  0.084776  0.089902      -0.009092     0.009092   \n",
      "region_SUBURBAN    0.031345  0.029824 -0.014122      -0.010951     0.010951   \n",
      "region_TOWN       -0.008510 -0.036431 -0.007033       0.040472    -0.040472   \n",
      "married_NO        -0.010394  0.008386  0.048716       0.021110    -0.021110   \n",
      "married_YES        0.010394 -0.008386 -0.048716      -0.021110     0.021110   \n",
      "car_NO            -0.077733 -0.081556 -0.036455       0.006667    -0.006667   \n",
      "car_YES            0.077733  0.081556  0.036455      -0.006667     0.006667   \n",
      "savings_acct_NO   -0.184389 -0.266164 -0.041536       0.007207    -0.007207   \n",
      "savings_acct_YES   0.184389  0.266164  0.041536      -0.007207     0.007207   \n",
      "current_acct_NO    0.035312 -0.031616 -0.006238      -0.019466     0.019466   \n",
      "current_acct_YES  -0.035312  0.031616  0.006238       0.019466    -0.019466   \n",
      "mortgage_NO        0.016154  0.014662  0.074339       0.066465    -0.066465   \n",
      "mortgage_YES      -0.016154 -0.014662 -0.074339      -0.066465     0.066465   \n",
      "pep_NO            -0.173825 -0.221991  0.057663       0.046843    -0.046843   \n",
      "pep_YES            0.173825  0.221991 -0.057663      -0.046843     0.046843   \n",
      "\n",
      "                   region_INNER_CITY  region_RURAL  region_SUBURBAN  \\\n",
      "age                        -0.025171      0.018635         0.031345   \n",
      "income                     -0.047564      0.084776         0.029824   \n",
      "children                   -0.051222      0.089902        -0.014122   \n",
      "gender_FEMALE              -0.023459     -0.009092        -0.010951   \n",
      "gender_MALE                 0.023459      0.009092         0.010951   \n",
      "region_INNER_CITY           1.000000     -0.393444        -0.306032   \n",
      "region_RURAL               -0.393444      1.000000        -0.148158   \n",
      "region_SUBURBAN            -0.306032     -0.148158         1.000000   \n",
      "region_TOWN                -0.573814     -0.277798        -0.216080   \n",
      "married_NO                 -0.003254      0.022649        -0.012483   \n",
      "married_YES                 0.003254     -0.022649         0.012483   \n",
      "car_NO                      0.018143     -0.024006         0.061184   \n",
      "car_YES                    -0.018143      0.024006        -0.061184   \n",
      "savings_acct_NO             0.091373     -0.036960        -0.002605   \n",
      "savings_acct_YES           -0.091373      0.036960         0.002605   \n",
      "current_acct_NO            -0.007894      0.008496        -0.038157   \n",
      "current_acct_YES            0.007894     -0.008496         0.038157   \n",
      "mortgage_NO                -0.002098      0.051908        -0.004635   \n",
      "mortgage_YES                0.002098     -0.051908         0.004635   \n",
      "pep_NO                     -0.001054     -0.019714        -0.062508   \n",
      "pep_YES                     0.001054      0.019714         0.062508   \n",
      "\n",
      "                   region_TOWN  married_NO    ...       car_NO   car_YES  \\\n",
      "age                  -0.008510   -0.010394    ...    -0.077733  0.077733   \n",
      "income               -0.036431    0.008386    ...    -0.081556  0.081556   \n",
      "children             -0.007033    0.048716    ...    -0.036455  0.036455   \n",
      "gender_FEMALE         0.040472    0.021110    ...     0.006667 -0.006667   \n",
      "gender_MALE          -0.040472   -0.021110    ...    -0.006667  0.006667   \n",
      "region_INNER_CITY    -0.573814   -0.003254    ...     0.018143 -0.018143   \n",
      "region_RURAL         -0.277798    0.022649    ...    -0.024006  0.024006   \n",
      "region_SUBURBAN      -0.216080   -0.012483    ...     0.061184 -0.061184   \n",
      "region_TOWN           1.000000   -0.006369    ...    -0.041604  0.041604   \n",
      "married_NO           -0.006369    1.000000    ...    -0.009571  0.009571   \n",
      "married_YES           0.006369   -1.000000    ...     0.009571 -0.009571   \n",
      "car_NO               -0.041604   -0.009571    ...     1.000000 -1.000000   \n",
      "car_YES               0.041604    0.009571    ...    -1.000000  1.000000   \n",
      "savings_acct_NO      -0.068654    0.028604    ...     0.034310 -0.034310   \n",
      "savings_acct_YES      0.068654   -0.028604    ...    -0.034310  0.034310   \n",
      "current_acct_NO       0.027431   -0.059996    ...    -0.034783  0.034783   \n",
      "current_acct_YES     -0.027431    0.059996    ...     0.034783 -0.034783   \n",
      "mortgage_NO          -0.036591   -0.021711    ...    -0.007743  0.007743   \n",
      "mortgage_YES          0.036591    0.021711    ...     0.007743 -0.007743   \n",
      "pep_NO                0.059115   -0.189578    ...     0.018917 -0.018917   \n",
      "pep_YES              -0.059115    0.189578    ...    -0.018917  0.018917   \n",
      "\n",
      "                   savings_acct_NO  savings_acct_YES  current_acct_NO  \\\n",
      "age                      -0.184389          0.184389         0.035312   \n",
      "income                   -0.266164          0.266164        -0.031616   \n",
      "children                 -0.041536          0.041536        -0.006238   \n",
      "gender_FEMALE             0.007207         -0.007207        -0.019466   \n",
      "gender_MALE              -0.007207          0.007207         0.019466   \n",
      "region_INNER_CITY         0.091373         -0.091373        -0.007894   \n",
      "region_RURAL             -0.036960          0.036960         0.008496   \n",
      "region_SUBURBAN          -0.002605          0.002605        -0.038157   \n",
      "region_TOWN              -0.068654          0.068654         0.027431   \n",
      "married_NO                0.028604         -0.028604        -0.059996   \n",
      "married_YES              -0.028604          0.028604         0.059996   \n",
      "car_NO                    0.034310         -0.034310        -0.034783   \n",
      "car_YES                  -0.034310          0.034310         0.034783   \n",
      "savings_acct_NO           1.000000         -1.000000         0.042511   \n",
      "savings_acct_YES         -1.000000          1.000000        -0.042511   \n",
      "current_acct_NO           0.042511         -0.042511         1.000000   \n",
      "current_acct_YES         -0.042511          0.042511        -1.000000   \n",
      "mortgage_NO              -0.001588          0.001588        -0.036704   \n",
      "mortgage_YES              0.001588         -0.001588         0.036704   \n",
      "pep_NO                   -0.072779          0.072779         0.025141   \n",
      "pep_YES                   0.072779         -0.072779        -0.025141   \n",
      "\n",
      "                   current_acct_YES  mortgage_NO  mortgage_YES    pep_NO  \\\n",
      "age                       -0.035312     0.016154     -0.016154 -0.173825   \n",
      "income                     0.031616     0.014662     -0.014662 -0.221991   \n",
      "children                   0.006238     0.074339     -0.074339  0.057663   \n",
      "gender_FEMALE              0.019466     0.066465     -0.066465  0.046843   \n",
      "gender_MALE               -0.019466    -0.066465      0.066465 -0.046843   \n",
      "region_INNER_CITY          0.007894    -0.002098      0.002098 -0.001054   \n",
      "region_RURAL              -0.008496     0.051908     -0.051908 -0.019714   \n",
      "region_SUBURBAN            0.038157    -0.004635      0.004635 -0.062508   \n",
      "region_TOWN               -0.027431    -0.036591      0.036591  0.059115   \n",
      "married_NO                 0.059996    -0.021711      0.021711 -0.189578   \n",
      "married_YES               -0.059996     0.021711     -0.021711  0.189578   \n",
      "car_NO                     0.034783    -0.007743      0.007743  0.018917   \n",
      "car_YES                   -0.034783     0.007743     -0.007743 -0.018917   \n",
      "savings_acct_NO           -0.042511    -0.001588      0.001588 -0.072779   \n",
      "savings_acct_YES           0.042511     0.001588     -0.001588  0.072779   \n",
      "current_acct_NO           -1.000000    -0.036704      0.036704  0.025141   \n",
      "current_acct_YES           1.000000     0.036704     -0.036704 -0.025141   \n",
      "mortgage_NO                0.036704     1.000000     -1.000000 -0.024182   \n",
      "mortgage_YES              -0.036704    -1.000000      1.000000  0.024182   \n",
      "pep_NO                    -0.025141    -0.024182      0.024182  1.000000   \n",
      "pep_YES                    0.025141     0.024182     -0.024182 -1.000000   \n",
      "\n",
      "                    pep_YES  \n",
      "age                0.173825  \n",
      "income             0.221991  \n",
      "children          -0.057663  \n",
      "gender_FEMALE     -0.046843  \n",
      "gender_MALE        0.046843  \n",
      "region_INNER_CITY  0.001054  \n",
      "region_RURAL       0.019714  \n",
      "region_SUBURBAN    0.062508  \n",
      "region_TOWN       -0.059115  \n",
      "married_NO         0.189578  \n",
      "married_YES       -0.189578  \n",
      "car_NO            -0.018917  \n",
      "car_YES            0.018917  \n",
      "savings_acct_NO    0.072779  \n",
      "savings_acct_YES  -0.072779  \n",
      "current_acct_NO   -0.025141  \n",
      "current_acct_YES   0.025141  \n",
      "mortgage_NO        0.024182  \n",
      "mortgage_YES      -0.024182  \n",
      "pep_NO            -1.000000  \n",
      "pep_YES            1.000000  \n",
      "\n",
      "[21 rows x 21 columns]\n"
     ]
    },
    {
     "data": {
      "text/plain": [
       "'\\nSome observations on the correlations\\n- high positive correlation between income and age\\n- living in a rural region has the largest negative correlation among all the regions with being married\\n'"
      ]
     },
     "execution_count": 49,
     "metadata": {},
     "output_type": "execute_result"
    }
   ],
   "source": [
    "# because the customer ID column is already our index, we don't need to first remove this column from the dataframe\n",
    "print bank_df_standard.corr()\n",
    "\n",
    "'''\n",
    "Some observations on the correlations\n",
    "- high positive correlation between income and age\n",
    "- living in a rural region has the largest negative correlation among all the regions with being married\n",
    "'''\n",
    "\n"
   ]
  },
  {
   "cell_type": "markdown",
   "metadata": {},
   "source": [
    "8) Using Matplotlib library and/or ploting capabilties of Pandas, create a scatter plot of the (non-normalized) Income attribute relative to Age. Be sure that your plot contains appropriate labels for the axes. Do these variables seem correlated?"
   ]
  },
  {
   "cell_type": "code",
   "execution_count": 50,
   "metadata": {
    "collapsed": false
   },
   "outputs": [
    {
     "data": {
      "text/plain": [
       "'\\nYes, these two attributes seem positively correlated\\n'"
      ]
     },
     "execution_count": 50,
     "metadata": {},
     "output_type": "execute_result"
    },
    {
     "data": {
      "image/png": "[encoded data removed]",
      "text/plain": [
       "<matplotlib.figure.Figure at 0xa08db70>"
      ]
     },
     "metadata": {},
     "output_type": "display_data"
    }
   ],
   "source": [
    "# these two attributes are normalized in our current dataframe so let's create a new one from the raw data\n",
    "new_bank_df = pd.read_csv('bank_data.csv', index_col=0)\n",
    "\n",
    "# now we can plot the attributes\n",
    "new_bank_df.plot(x='age',y='income',kind='scatter')\n",
    "\n",
    "'''\n",
    "Yes, these two attributes seem positively correlated\n",
    "'''"
   ]
  },
  {
   "cell_type": "markdown",
   "metadata": {},
   "source": [
    "9) Create histograms for (non-normalized) Income (using 9 bins) and Age (using 15 bins)."
   ]
  },
  {
   "cell_type": "code",
   "execution_count": 51,
   "metadata": {
    "collapsed": false
   },
   "outputs": [
    {
     "data": {
      "text/plain": [
       "<matplotlib.axes._subplots.AxesSubplot at 0xb1f9780>"
      ]
     },
     "execution_count": 51,
     "metadata": {},
     "output_type": "execute_result"
    },
    {
     "data": {
      "image/png": "[encoded data removed]",
      "text/plain": [
       "<matplotlib.figure.Figure at 0xac65be0>"
      ]
     },
     "metadata": {},
     "output_type": "display_data"
    }
   ],
   "source": [
    "fig = plt.figure(figsize=(10,4))\n",
    "ax1 = fig.add_subplot(121)\n",
    "ax1.set_xlabel('Income')\n",
    "ax1.set_ylabel('Count')\n",
    "ax1.set_title('Income Distribution')\n",
    "new_bank_df.income.plot(kind='hist', grid=True, bins=9, alpha=0.5)\n",
    "\n",
    "ax1 = fig.add_subplot(122)\n",
    "ax1.set_xlabel('Age')\n",
    "ax1.set_ylabel('Count')\n",
    "ax1.set_title('Age Distribution')\n",
    "new_bank_df.age.plot(kind='hist',grid=True, bins=15, alpha=0.5)"
   ]
  },
  {
   "cell_type": "markdown",
   "metadata": {},
   "source": [
    "10) Using a bargraph, plot the distribution of the values of the region attribute."
   ]
  },
  {
   "cell_type": "code",
   "execution_count": 52,
   "metadata": {
    "collapsed": false
   },
   "outputs": [
    {
     "data": {
      "image/png": "[encoded data removed]",
      "text/plain": [
       "<matplotlib.figure.Figure at 0xae82518>"
      ]
     },
     "metadata": {},
     "output_type": "display_data"
    }
   ],
   "source": [
    "# first create a variable to hold the counts of the regions\n",
    "regions = bank_df.groupby('region').age.count()\n",
    "\n",
    "# then plot the values\n",
    "plt.show(regions.plot(kind='bar'))"
   ]
  },
  {
   "cell_type": "markdown",
   "metadata": {},
   "source": [
    "11) Perform a cross-tabulation of the region attribute with the pep attribute. This requires the aggregation of the occurrences of each pep value (yes or no) separately for each value of the region attribute. Show the results as a 4 by 2 (region x pep) table with entries representing the counts. [Hint: you can either use Numpy or use aggregations fucntions in Pandas such as groupby() and  cross-tab().] Then, either using Matplotlib directly or the plot() function in Pandas create a bar chart graph to visualize of the relationships between these sets of variables. [Hint: This example of creating simple bar charts using Matplotlib may be useful.]"
   ]
  },
  {
   "cell_type": "code",
   "execution_count": 53,
   "metadata": {
    "collapsed": false
   },
   "outputs": [
    {
     "name": "stdout",
     "output_type": "stream",
     "text": [
      "pep          NO  YES\n",
      "region              \n",
      "INNER_CITY  146  123\n",
      "RURAL        50   46\n",
      "SUBURBAN     28   34\n",
      "TOWN        102   71\n"
     ]
    },
    {
     "data": {
      "image/png": "[encoded data removed]",
      "text/plain": [
       "<matplotlib.figure.Figure at 0xb1d1f98>"
      ]
     },
     "metadata": {},
     "output_type": "display_data"
    }
   ],
   "source": [
    "ct = pd.crosstab(new_bank_df.region, new_bank_df.pep)\n",
    "print ct\n",
    "\n",
    "plt.show(ct.plot(kind='bar'))"
   ]
  }
 ],
 "metadata": {
  "anaconda-cloud": {},
  "kernelspec": {
   "display_name": "Python [Root]",
   "language": "python",
   "name": "Python [Root]"
  },
  "language_info": {
   "codemirror_mode": {
    "name": "ipython",
    "version": 2
   },
   "file_extension": ".py",
   "mimetype": "text/x-python",
   "name": "python",
   "nbconvert_exporter": "python",
   "pygments_lexer": "ipython2",
   "version": "2.7.12"
  }
 },
 "nbformat": 4,
 "nbformat_minor": 0
}
